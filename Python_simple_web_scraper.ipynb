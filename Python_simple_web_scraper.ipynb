{
  "nbformat": 4,
  "nbformat_minor": 0,
  "metadata": {
    "colab": {
      "provenance": [],
      "authorship_tag": "ABX9TyPMfTzvJ/WvR2dsL3hEaM/F",
      "include_colab_link": true
    },
    "kernelspec": {
      "name": "python3",
      "display_name": "Python 3"
    },
    "language_info": {
      "name": "python"
    }
  },
  "cells": [
    {
      "cell_type": "markdown",
      "metadata": {
        "id": "view-in-github",
        "colab_type": "text"
      },
      "source": [
        "<a href=\"https://colab.research.google.com/github/BobaLover419/Python-simple-web-scraper/blob/main/Python_simple_web_scraper.ipynb\" target=\"_parent\"><img src=\"https://colab.research.google.com/assets/colab-badge.svg\" alt=\"Open In Colab\"/></a>"
      ]
    },
    {
      "cell_type": "code",
      "execution_count": 6,
      "metadata": {
        "id": "_UT0axEzv8E-"
      },
      "outputs": [],
      "source": [
        "import requests #let you send HTTP requests, allow fetching content of website, resources...\n",
        "from bs4 import BeautifulSoup #helps parse and extract information from HTML or XML documents in a structured way.\n",
        "\n",
        "URL = \"https://www.bbc.com/news\" #get bbc front page link\n",
        "page = requests.get(URL) #downloads the raw HTML text from the server.\n",
        "\n",
        "soup = BeautifulSoup(page.content, \"html.parser\") #break down the HTML into a structured format so we can extract information easily.\n",
        "\n",
        "\n",
        "\n"
      ]
    }
  ]
}